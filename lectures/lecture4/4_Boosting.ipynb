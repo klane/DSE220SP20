{
 "cells": [
  {
   "cell_type": "raw",
   "metadata": {},
   "source": [
    "This notebook talks about Boosting, Bagging and Random Forests.\n",
    "Outline:\n",
    "    Load wine dataset\n",
    "    Use AdaBoost with DecisionTreeClassifier\n",
    "    Bagging\n",
    "    Random Forests"
   ]
  },
  {
   "cell_type": "code",
   "execution_count": 1,
   "metadata": {},
   "outputs": [],
   "source": [
    "from sklearn.ensemble import AdaBoostClassifier\n",
    "import numpy as np\n",
    "import matplotlib.pyplot as plt\n",
    "from sklearn.model_selection import train_test_split\n",
    "import pandas as pd\n",
    "\n",
    "data = pd.read_csv('wine_original.csv')\n",
    "labels = data['class']\n",
    "del data['class']\n",
    "X = data\n",
    "y = labels\n",
    "\n",
    "# Split into testing and training data\n",
    "X_train, X_test, y_train, y_test = train_test_split(X, y, test_size=0.2, random_state=5)\n",
    "X_train, X_valid, y_train, y_valid = train_test_split(X_train, y_train, test_size=0.2, random_state=5)"
   ]
  },
  {
   "cell_type": "markdown",
   "metadata": {},
   "source": [
    "Initializing an AdaBoost Classifier"
   ]
  },
  {
   "cell_type": "code",
   "execution_count": 2,
   "metadata": {},
   "outputs": [
    {
     "name": "stdout",
     "output_type": "stream",
     "text": [
      "0.896551724137931\n"
     ]
    }
   ],
   "source": [
    "from sklearn.metrics import accuracy_score\n",
    "from sklearn.tree import DecisionTreeClassifier\n",
    "\n",
    "# clf = AdaBoostClassifier(DecisionTreeClassifier(), n_estimators=100)\n",
    "clf = AdaBoostClassifier(DecisionTreeClassifier(random_state = 1), n_estimators = 100, random_state = 4)\n",
    "clf.fit(X_train, y_train)\n",
    "y_pred = clf.predict(X_valid)\n",
    "y_train_pred = clf.predict(X_train)\n",
    "\n",
    "print (accuracy_score(y_pred, y_valid))"
   ]
  },
  {
   "cell_type": "code",
   "execution_count": 3,
   "metadata": {},
   "outputs": [
    {
     "name": "stdout",
     "output_type": "stream",
     "text": [
      "0.896551724137931\n"
     ]
    }
   ],
   "source": [
    "clf = AdaBoostClassifier(n_estimators = 100, random_state = 4)\n",
    "clf.fit(X_train, y_train)\n",
    "y_pred = clf.predict(X_valid)\n",
    "y_train_pred = clf.predict(X_train)\n",
    "\n",
    "print (accuracy_score(y_pred, y_valid))"
   ]
  },
  {
   "cell_type": "markdown",
   "metadata": {},
   "source": [
    "What about a Decision Tree Classifier with default parameters?"
   ]
  },
  {
   "cell_type": "code",
   "execution_count": 4,
   "metadata": {},
   "outputs": [
    {
     "name": "stdout",
     "output_type": "stream",
     "text": [
      "0.896551724137931\n"
     ]
    }
   ],
   "source": [
    "from sklearn.metrics import accuracy_score\n",
    "from sklearn.tree import DecisionTreeClassifier\n",
    "\n",
    "clf = DecisionTreeClassifier(random_state = 1)\n",
    "clf.fit(X_train, y_train)\n",
    "y_pred = clf.predict(X_valid)\n",
    "y_train_pred = clf.predict(X_train)\n",
    "\n",
    "print (accuracy_score(y_pred, y_valid))"
   ]
  },
  {
   "cell_type": "code",
   "execution_count": 5,
   "metadata": {},
   "outputs": [
    {
     "name": "stdout",
     "output_type": "stream",
     "text": [
      "Validation Accuracy = 0.9655172413793104 at max_depth = 1 estimators = 100 learning rate = 0.5\n",
      "Validation Accuracy = 1.0 at max_depth = 1 estimators = 100 learning rate = 0.8\n",
      "Validation Accuracy = 0.896551724137931 at max_depth = 1 estimators = 100 learning rate = 1\n",
      "Validation Accuracy = 1.0 at max_depth = 1 estimators = 200 learning rate = 0.5\n",
      "Validation Accuracy = 1.0 at max_depth = 1 estimators = 200 learning rate = 0.8\n",
      "Validation Accuracy = 0.896551724137931 at max_depth = 1 estimators = 200 learning rate = 1\n",
      "Validation Accuracy = 1.0 at max_depth = 1 estimators = 300 learning rate = 0.5\n",
      "Validation Accuracy = 1.0 at max_depth = 1 estimators = 300 learning rate = 0.8\n",
      "Validation Accuracy = 0.896551724137931 at max_depth = 1 estimators = 300 learning rate = 1\n",
      "Validation Accuracy = 0.896551724137931 at max_depth = 2 estimators = 100 learning rate = 0.5\n",
      "Validation Accuracy = 0.9310344827586207 at max_depth = 2 estimators = 100 learning rate = 0.8\n",
      "Validation Accuracy = 1.0 at max_depth = 2 estimators = 100 learning rate = 1\n",
      "Validation Accuracy = 0.896551724137931 at max_depth = 2 estimators = 200 learning rate = 0.5\n",
      "Validation Accuracy = 0.896551724137931 at max_depth = 2 estimators = 200 learning rate = 0.8\n",
      "Validation Accuracy = 0.9310344827586207 at max_depth = 2 estimators = 200 learning rate = 1\n",
      "Validation Accuracy = 0.896551724137931 at max_depth = 2 estimators = 300 learning rate = 0.5\n",
      "Validation Accuracy = 0.9655172413793104 at max_depth = 2 estimators = 300 learning rate = 0.8\n",
      "Validation Accuracy = 1.0 at max_depth = 2 estimators = 300 learning rate = 1\n",
      "Validation Accuracy = 0.896551724137931 at max_depth = 3 estimators = 100 learning rate = 0.5\n",
      "Validation Accuracy = 0.9655172413793104 at max_depth = 3 estimators = 100 learning rate = 0.8\n",
      "Validation Accuracy = 0.9655172413793104 at max_depth = 3 estimators = 100 learning rate = 1\n",
      "Validation Accuracy = 0.9310344827586207 at max_depth = 3 estimators = 200 learning rate = 0.5\n",
      "Validation Accuracy = 0.9655172413793104 at max_depth = 3 estimators = 200 learning rate = 0.8\n",
      "Validation Accuracy = 0.9310344827586207 at max_depth = 3 estimators = 200 learning rate = 1\n",
      "Validation Accuracy = 0.9310344827586207 at max_depth = 3 estimators = 300 learning rate = 0.5\n",
      "Validation Accuracy = 0.896551724137931 at max_depth = 3 estimators = 300 learning rate = 0.8\n",
      "Validation Accuracy = 0.9655172413793104 at max_depth = 3 estimators = 300 learning rate = 1\n",
      "\n",
      "Best params = 1 100 0.8\n"
     ]
    }
   ],
   "source": [
    "from sklearn.metrics import accuracy_score\n",
    "from sklearn.tree import DecisionTreeClassifier\n",
    "\n",
    "best_acc = 0.0\n",
    "best_max_depth = 0\n",
    "best_n_est = 0\n",
    "\n",
    "for max_depth in [1,2,3]:\n",
    "    for n_est in [100,200,300]:\n",
    "        for lr in [0.5, 0.8, 1]:\n",
    "            clf = AdaBoostClassifier(DecisionTreeClassifier(max_depth=max_depth),\n",
    "                             n_estimators=n_est, learning_rate=lr)\n",
    "            clf.fit(X_train, y_train)\n",
    "            y_pred = clf.predict(X_valid)\n",
    "            y_train_pred = clf.predict(X_train)\n",
    "    \n",
    "            acc = accuracy_score(y_pred, y_valid)\n",
    "    \n",
    "            print ('Validation Accuracy = ' + str(acc) + ' at max_depth = ' + str(max_depth) + ' estimators = ' + str(n_est) + ' learning rate = ' + str(lr))\n",
    "            if (acc > best_acc):\n",
    "                best_acc = acc\n",
    "                best_max_depth = max_depth\n",
    "                best_n_est = n_est\n",
    "                best_lr = lr\n",
    "\n",
    "print ('')\n",
    "print ('Best params = ' + str(best_max_depth) + ' ' + str(best_n_est) + ' ' + str(best_lr))"
   ]
  },
  {
   "cell_type": "markdown",
   "metadata": {},
   "source": [
    "Single classifier with these parameters"
   ]
  },
  {
   "cell_type": "code",
   "execution_count": 6,
   "metadata": {},
   "outputs": [],
   "source": [
    "X_train = np.concatenate((X_train, X_valid))\n",
    "y_train = np.concatenate((y_train, y_valid))"
   ]
  },
  {
   "cell_type": "code",
   "execution_count": 7,
   "metadata": {},
   "outputs": [
    {
     "name": "stdout",
     "output_type": "stream",
     "text": [
      "0.5833333333333334\n"
     ]
    }
   ],
   "source": [
    "clf = DecisionTreeClassifier(max_depth=best_max_depth)\n",
    "clf.fit(X_train, y_train)\n",
    "y_pred = clf.predict(X_test)\n",
    "print (accuracy_score(y_pred, y_test))"
   ]
  },
  {
   "cell_type": "markdown",
   "metadata": {},
   "source": [
    "Adaboost Classifier with 100 of these classifiers on TEST set"
   ]
  },
  {
   "cell_type": "code",
   "execution_count": 9,
   "metadata": {},
   "outputs": [
    {
     "name": "stdout",
     "output_type": "stream",
     "text": [
      "0.9166666666666666\n"
     ]
    }
   ],
   "source": [
    "clf = AdaBoostClassifier(DecisionTreeClassifier(max_depth=best_max_depth), n_estimators=best_n_est, learning_rate=best_lr)\n",
    "clf.fit(X_train, y_train)\n",
    "y_pred = clf.predict(X_test)\n",
    "print (accuracy_score(y_pred, y_test))"
   ]
  },
  {
   "cell_type": "markdown",
   "metadata": {},
   "source": [
    "Decision Boundary"
   ]
  },
  {
   "cell_type": "code",
   "execution_count": 10,
   "metadata": {},
   "outputs": [
    {
     "data": {
      "text/plain": [
       "<Figure size 432x288 with 0 Axes>"
      ]
     },
     "metadata": {},
     "output_type": "display_data"
    },
    {
     "data": {
      "image/png": "[encoded data removed]",
      "text/plain": [
       "<Figure size 432x288 with 1 Axes>"
      ]
     },
     "metadata": {
      "needs_background": "light"
     },
     "output_type": "display_data"
    }
   ],
   "source": [
    "from matplotlib.colors import ListedColormap\n",
    "\n",
    "h = .02  # step size in the mesh\n",
    "# Create color maps\n",
    "cmap_light = ListedColormap(['#FFAAAA', '#AAFFAA', '#AAAAFF'])\n",
    "cmap_bold = ListedColormap(['#FF0000', '#00FF00', '#0000FF'])\n",
    "\n",
    "X = np.concatenate((X_train, X_test))\n",
    "y = np.concatenate((y_train, y_test))\n",
    "\n",
    "# Plot the decision boundary. For that, we will assign a color to each\n",
    "    # point in the mesh [x_min, x_max]x[y_min, y_max].\n",
    "x_min, x_max = X[:, 0].min() - 1, X[:, 0].max() + 1\n",
    "y_min, y_max = X[:, 1].min() - 1, X[:, 1].max() + 1\n",
    "\n",
    "plt.clf()\n",
    "clf = AdaBoostClassifier(DecisionTreeClassifier(max_depth=2),\n",
    "                         n_estimators=100, learning_rate=0.8)\n",
    "clf.fit(X[:,:2], y)\n",
    "xx, yy = np.meshgrid(np.arange(x_min, x_max, h),\n",
    "                    np.arange(y_min, y_max, h))\n",
    "Z = clf.predict(np.c_[xx.ravel(), yy.ravel()])\n",
    "\n",
    "# Put the result into a color plot\n",
    "Z = Z.reshape(xx.shape)\n",
    "plt.figure()\n",
    "plt.pcolormesh(xx, yy, Z, cmap=cmap_light)\n",
    "\n",
    "# Plot also the training points\n",
    "plt.scatter(X[:, 0], X[:, 1], c=y, cmap=cmap_bold)\n",
    "plt.xlim(xx.min(), xx.max())\n",
    "plt.ylim(yy.min(), yy.max())\n",
    "plt.title(accuracy_score(clf.predict(X[:,:2]), y))\n",
    "plt.show()"
   ]
  },
  {
   "cell_type": "markdown",
   "metadata": {},
   "source": [
    "### Adaboost Implementation without specifying Decision Trees"
   ]
  },
  {
   "cell_type": "code",
   "execution_count": 13,
   "metadata": {},
   "outputs": [],
   "source": [
    "data = pd.read_csv('wine_original.csv')\n",
    "labels = data['class']\n",
    "del data['class']\n",
    "X = data\n",
    "y = labels\n",
    "\n",
    "# Split into testing and training data\n",
    "X_train, X_test, y_train, y_test = train_test_split(X, y, test_size=0.2, random_state=5)\n",
    "X_train, X_valid, y_train, y_valid = train_test_split(X_train, y_train, test_size=0.2, random_state=5)"
   ]
  },
  {
   "cell_type": "code",
   "execution_count": 15,
   "metadata": {},
   "outputs": [
    {
     "name": "stdout",
     "output_type": "stream",
     "text": [
      "Validation Accuracy = 0.9310344827586207 at lr = 0.1 estimators = 100\n",
      "Validation Accuracy = 0.9655172413793104 at lr = 0.1 estimators = 200\n",
      "Validation Accuracy = 0.9655172413793104 at lr = 0.1 estimators = 300\n",
      "Validation Accuracy = 0.9655172413793104 at lr = 0.5 estimators = 100\n",
      "Validation Accuracy = 1.0 at lr = 0.5 estimators = 200\n",
      "Validation Accuracy = 1.0 at lr = 0.5 estimators = 300\n",
      "Validation Accuracy = 1.0 at lr = 0.8 estimators = 100\n",
      "Validation Accuracy = 1.0 at lr = 0.8 estimators = 200\n",
      "Validation Accuracy = 1.0 at lr = 0.8 estimators = 300\n",
      "Validation Accuracy = 0.896551724137931 at lr = 1 estimators = 100\n",
      "Validation Accuracy = 0.896551724137931 at lr = 1 estimators = 200\n",
      "Validation Accuracy = 0.896551724137931 at lr = 1 estimators = 300\n",
      "\n",
      "Best params = 0.5 200\n"
     ]
    }
   ],
   "source": [
    "best_acc = 0.0\n",
    "best_max_depth = 0\n",
    "best_n_est = 0\n",
    "\n",
    "for lr in [0.1, 0.5, 0.8, 1]:\n",
    "    for n_est in [100,200,300]:\n",
    "        clf = AdaBoostClassifier(learning_rate=lr, n_estimators=n_est)\n",
    "        clf.fit(X_train, y_train)\n",
    "        y_pred = clf.predict(X_valid)\n",
    "        y_train_pred = clf.predict(X_train)\n",
    "\n",
    "        acc = accuracy_score(y_pred, y_valid)\n",
    "\n",
    "        print ('Validation Accuracy = ' + str(acc) + ' at lr = ' + str(lr) + ' estimators = ' + str(n_est))\n",
    "        if (acc > best_acc):\n",
    "            best_acc = acc\n",
    "            best_lr = lr\n",
    "            best_n_est = n_est\n",
    "\n",
    "print ('')\n",
    "print ('Best params = ' + str(best_lr) + ' ' + str(best_n_est))"
   ]
  },
  {
   "cell_type": "markdown",
   "metadata": {},
   "source": [
    "## Bagging"
   ]
  },
  {
   "cell_type": "code",
   "execution_count": 16,
   "metadata": {},
   "outputs": [],
   "source": [
    "data = pd.read_csv('wine_original.csv')\n",
    "labels = data['class']\n",
    "del data['class']\n",
    "X = data\n",
    "y = labels\n",
    "\n",
    "# Split into testing and training data\n",
    "X_train, X_test, y_train, y_test = train_test_split(X, y, test_size=0.2, random_state=5)"
   ]
  },
  {
   "cell_type": "code",
   "execution_count": 17,
   "metadata": {},
   "outputs": [],
   "source": [
    "from sklearn.ensemble import BaggingClassifier"
   ]
  },
  {
   "cell_type": "markdown",
   "metadata": {},
   "source": [
    "### By default BaggingClassifier Uses Decision Trees"
   ]
  },
  {
   "cell_type": "code",
   "execution_count": 69,
   "metadata": {},
   "outputs": [
    {
     "name": "stdout",
     "output_type": "stream",
     "text": [
      "Test accuracy = 0.9444444444444444\n",
      "Train accuracy = 1.0\n"
     ]
    }
   ],
   "source": [
    "clf = BaggingClassifier(n_estimators=10, max_samples=0.7, max_features=0.7)\n",
    "clf.fit(X_train, y_train)\n",
    "preds = clf.predict(X_test)\n",
    "y_true_preds = clf.predict(X_train)\n",
    "\n",
    "print ('Test accuracy = ' + str(accuracy_score(preds, y_test)))\n",
    "print ('Train accuracy = ' + str(accuracy_score(y_true_preds, y_train)))"
   ]
  },
  {
   "cell_type": "markdown",
   "metadata": {},
   "source": [
    "### We can pass different models to the classifier"
   ]
  },
  {
   "cell_type": "code",
   "execution_count": 21,
   "metadata": {},
   "outputs": [],
   "source": [
    "from sklearn.svm import SVC"
   ]
  },
  {
   "cell_type": "code",
   "execution_count": 68,
   "metadata": {},
   "outputs": [
    {
     "name": "stdout",
     "output_type": "stream",
     "text": [
      "Test accuracy = 0.9722222222222222\n",
      "Train accuracy = 0.9929577464788732\n"
     ]
    }
   ],
   "source": [
    "clf = BaggingClassifier(n_estimators=10, base_estimator=SVC(C=10, kernel='linear'), max_samples=0.7, max_features=0.7)\n",
    "clf.fit(X_train, y_train)\n",
    "preds = clf.predict(X_test)\n",
    "y_true_preds = clf.predict(X_train)\n",
    "\n",
    "print ('Test accuracy = ' + str(accuracy_score(preds, y_test)))\n",
    "print ('Train accuracy = ' + str(accuracy_score(y_true_preds, y_train)))"
   ]
  },
  {
   "cell_type": "code",
   "execution_count": null,
   "metadata": {},
   "outputs": [],
   "source": [
    "# Random in nature -> Different result each time possible"
   ]
  },
  {
   "cell_type": "markdown",
   "metadata": {},
   "source": [
    "### Random Forests"
   ]
  },
  {
   "cell_type": "code",
   "execution_count": 70,
   "metadata": {},
   "outputs": [],
   "source": [
    "from sklearn.ensemble import RandomForestClassifier"
   ]
  },
  {
   "cell_type": "code",
   "execution_count": 74,
   "metadata": {},
   "outputs": [
    {
     "name": "stdout",
     "output_type": "stream",
     "text": [
      "Test accuracy = 0.9722222222222222\n",
      "Train accuracy = 1.0\n"
     ]
    }
   ],
   "source": [
    "clf = RandomForestClassifier(n_estimators=10, max_depth=5)\n",
    "clf.fit(X_train, y_train)\n",
    "preds = clf.predict(X_test)\n",
    "y_true_preds = clf.predict(X_train)\n",
    "\n",
    "print ('Test accuracy = ' + str(accuracy_score(preds, y_test)))\n",
    "print ('Train accuracy = ' + str(accuracy_score(y_true_preds, y_train)))"
   ]
  },
  {
   "cell_type": "code",
   "execution_count": 75,
   "metadata": {},
   "outputs": [
    {
     "data": {
      "text/plain": [
       "<Figure size 432x288 with 0 Axes>"
      ]
     },
     "metadata": {},
     "output_type": "display_data"
    },
    {
     "data": {
      "image/png": "[encoded data removed]",
      "text/plain": [
       "<Figure size 432x288 with 1 Axes>"
      ]
     },
     "metadata": {
      "needs_background": "light"
     },
     "output_type": "display_data"
    }
   ],
   "source": [
    "from matplotlib.colors import ListedColormap\n",
    "\n",
    "h = .02  # step size in the mesh\n",
    "# Create color maps\n",
    "cmap_light = ListedColormap(['#FFAAAA', '#AAFFAA', '#AAAAFF'])\n",
    "cmap_bold = ListedColormap(['#FF0000', '#00FF00', '#0000FF'])\n",
    "\n",
    "X = np.concatenate((X_train, X_test))\n",
    "y = np.concatenate((y_train, y_test))\n",
    "\n",
    "# Plot the decision boundary. For that, we will assign a color to each\n",
    "    # point in the mesh [x_min, x_max]x[y_min, y_max].\n",
    "x_min, x_max = X[:, 0].min() - 1, X[:, 0].max() + 1\n",
    "y_min, y_max = X[:, 1].min() - 1, X[:, 1].max() + 1\n",
    "\n",
    "plt.clf()\n",
    "clf = RandomForestClassifier(n_estimators=10)\n",
    "clf.fit(X[:,:2], y)\n",
    "xx, yy = np.meshgrid(np.arange(x_min, x_max, h),\n",
    "                    np.arange(y_min, y_max, h))\n",
    "Z = clf.predict(np.c_[xx.ravel(), yy.ravel()])\n",
    "\n",
    "# Put the result into a color plot\n",
    "Z = Z.reshape(xx.shape)\n",
    "plt.figure()\n",
    "plt.pcolormesh(xx, yy, Z, cmap=cmap_light)\n",
    "\n",
    "# Plot also the training points\n",
    "plt.scatter(X[:, 0], X[:, 1], c=y, cmap=cmap_bold)\n",
    "plt.xlim(xx.min(), xx.max())\n",
    "plt.ylim(yy.min(), yy.max())\n",
    "plt.title(accuracy_score(clf.predict(X[:,:2]), y))\n",
    "plt.show()"
   ]
  },
  {
   "cell_type": "code",
   "execution_count": null,
   "metadata": {},
   "outputs": [],
   "source": []
  }
 ],
 "metadata": {
  "anaconda-cloud": {},
  "kernelspec": {
   "display_name": "Python 3",
   "language": "python",
   "name": "python3"
  },
  "language_info": {
   "codemirror_mode": {
    "name": "ipython",
    "version": 3
   },
   "file_extension": ".py",
   "mimetype": "text/x-python",
   "name": "python",
   "nbconvert_exporter": "python",
   "pygments_lexer": "ipython3",
   "version": "3.7.1"
  }
 },
 "nbformat": 4,
 "nbformat_minor": 2
}
