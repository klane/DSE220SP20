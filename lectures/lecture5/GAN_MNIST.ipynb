{
 "cells": [
  {
   "cell_type": "code",
   "execution_count": 1,
   "metadata": {
    "colab": {},
    "colab_type": "code",
    "id": "NuZtdovNUJeP"
   },
   "outputs": [],
   "source": [
    "from __future__ import absolute_import, division, print_function, unicode_literals"
   ]
  },
  {
   "cell_type": "code",
   "execution_count": 2,
   "metadata": {
    "colab": {
     "base_uri": "https://localhost:8080/",
     "height": 34
    },
    "colab_type": "code",
    "id": "sJK-bwuXU1VF",
    "outputId": "497126a7-16e6-46fd-b40b-04f16cc24b40"
   },
   "outputs": [],
   "source": [
    "import tensorflow as tf"
   ]
  },
  {
   "cell_type": "code",
   "execution_count": 3,
   "metadata": {},
   "outputs": [
    {
     "data": {
      "text/plain": [
       "'2.1.0'"
      ]
     },
     "execution_count": 3,
     "metadata": {},
     "output_type": "execute_result"
    }
   ],
   "source": [
    "# Verify that you have version 2 of tensorflow\n",
    "\n",
    "tf.__version__"
   ]
  },
  {
   "cell_type": "code",
   "execution_count": 4,
   "metadata": {
    "colab": {},
    "colab_type": "code",
    "id": "oFJrfeZpVLsi"
   },
   "outputs": [],
   "source": [
    "\n",
    "import glob\n",
    "import imageio\n",
    "import matplotlib.pyplot as plt\n",
    "import numpy as np\n",
    "import os\n",
    "import PIL\n",
    "from tensorflow.keras import layers\n",
    "import time\n",
    "\n",
    "from IPython import display"
   ]
  },
  {
   "cell_type": "code",
   "execution_count": 5,
   "metadata": {
    "colab": {
     "base_uri": "https://localhost:8080/",
     "height": 51
    },
    "colab_type": "code",
    "id": "vG9VNDsNUKH2",
    "outputId": "0b25d395-85e5-4f74-cbe2-b15d6f08e1c3"
   },
   "outputs": [],
   "source": [
    "# Load the MNIST data\n",
    "\n",
    "(train_images, train_labels), (_, _) = tf.keras.datasets.mnist.load_data()"
   ]
  },
  {
   "cell_type": "code",
   "execution_count": 6,
   "metadata": {
    "colab": {},
    "colab_type": "code",
    "id": "ZxCr4HSzULcG"
   },
   "outputs": [],
   "source": [
    "# Normalize the images to [-1, 1]\n",
    "\n",
    "train_images = train_images.reshape(train_images.shape[0], 28, 28, 1).astype('float32')\n",
    "train_images = (train_images - 127.5) / 127.5 # Normalize the images to [-1, 1]"
   ]
  },
  {
   "cell_type": "code",
   "execution_count": 7,
   "metadata": {
    "colab": {},
    "colab_type": "code",
    "id": "Iq9zayijUNMl"
   },
   "outputs": [],
   "source": [
    "# Define the configs.\n",
    "\n",
    "BUFFER_SIZE = 60000\n",
    "BATCH_SIZE = 32\n",
    "\n",
    "EPOCHS = 50\n",
    "noise_dim = 128\n",
    "num_examples_to_generate = 16\n",
    "\n",
    "image_size = 28\n",
    "\n",
    "seed = tf.random.normal([num_examples_to_generate, noise_dim])"
   ]
  },
  {
   "cell_type": "code",
   "execution_count": 8,
   "metadata": {},
   "outputs": [
    {
     "data": {
      "text/plain": [
       "numpy.ndarray"
      ]
     },
     "execution_count": 8,
     "metadata": {},
     "output_type": "execute_result"
    }
   ],
   "source": [
    "type(train_images)"
   ]
  },
  {
   "cell_type": "code",
   "execution_count": 8,
   "metadata": {
    "colab": {},
    "colab_type": "code",
    "id": "Eq5XoK-NUN_q"
   },
   "outputs": [],
   "source": [
    "# Batch and shuffle the data\n",
    "train_dataset = tf.data.Dataset.from_tensor_slices(train_images).shuffle(BUFFER_SIZE).batch(BATCH_SIZE)"
   ]
  },
  {
   "cell_type": "code",
   "execution_count": 9,
   "metadata": {
    "colab": {},
    "colab_type": "code",
    "id": "0wRutEPtUOyD"
   },
   "outputs": [],
   "source": [
    "class Generator():\n",
    "    def __init__(self, input_dim):\n",
    "        model = tf.keras.Sequential()\n",
    "        model.add(layers.Dense(256, use_bias=False, input_shape=(input_dim,)))\n",
    "        model.add(layers.BatchNormalization())\n",
    "        model.add(layers.LeakyReLU()) # Default = 0.3\n",
    "\n",
    "\n",
    "        model.add(layers.Dense(512, use_bias=False))\n",
    "        model.add(layers.BatchNormalization())\n",
    "        model.add(layers.LeakyReLU())\n",
    "        #     print(model.output_shape)\n",
    "\n",
    "\n",
    "        model.add(layers.Dense(1024, use_bias=False))\n",
    "        model.add(layers.BatchNormalization())\n",
    "        model.add(layers.LeakyReLU())\n",
    "        #     print(model.output_shape)\n",
    "\n",
    "        model.add(layers.Dense(784, use_bias=False, activation = 'tanh'))\n",
    "\n",
    "        self.model = model\n",
    "\n",
    "    def forward(self, x, training = False):\n",
    "        return self.model(x, training = training)"
   ]
  },
  {
   "cell_type": "code",
   "execution_count": 10,
   "metadata": {
    "colab": {},
    "colab_type": "code",
    "id": "lkUy48E2UT8x"
   },
   "outputs": [],
   "source": [
    "class Discriminator():\n",
    "    def __init__(self, input_dim):\n",
    "        model = tf.keras.Sequential()\n",
    "        model.add(layers.Dense(512, use_bias=True, input_shape=(input_dim,)))\n",
    "        model.add(layers.LeakyReLU())\n",
    "        model.add(layers.Dropout(0.3))\n",
    "\n",
    "\n",
    "        model.add(layers.Dense(256, use_bias=True))\n",
    "        model.add(layers.LeakyReLU())\n",
    "        model.add(layers.Dropout(0.3))\n",
    "        #     print(model.output_shape)\n",
    "\n",
    "\n",
    "        model.add(layers.Dense(128, use_bias=True))\n",
    "        model.add(layers.LeakyReLU())\n",
    "        model.add(layers.Dropout(0.3))\n",
    "        #     print(model.output_shape)\n",
    "\n",
    "        model.add(layers.Flatten())\n",
    "        model.add(layers.Dense(1))\n",
    "\n",
    "        self.model = model\n",
    "\n",
    "    def forward(self, x, training = False):\n",
    "        output = self.model(x, training = training)\n",
    "        return output\n",
    "\n"
   ]
  },
  {
   "cell_type": "code",
   "execution_count": 11,
   "metadata": {
    "colab": {
     "base_uri": "https://localhost:8080/",
     "height": 350
    },
    "colab_type": "code",
    "id": "2nHezsR5WfxJ",
    "outputId": "255e1df6-3454-42b7-ecd2-01725f5b84bd"
   },
   "outputs": [
    {
     "name": "stdout",
     "output_type": "stream",
     "text": [
      "tf.Tensor(\n",
      "[[-0.11227747]\n",
      " [-0.0448477 ]\n",
      " [-0.29564476]\n",
      " [-0.29938954]], shape=(4, 1), dtype=float32)\n"
     ]
    },
    {
     "data": {
      "image/png": "[encoded data removed]",
      "text/plain": [
       "<Figure size 432x288 with 1 Axes>"
      ]
     },
     "metadata": {
      "needs_background": "light"
     },
     "output_type": "display_data"
    }
   ],
   "source": [
    "# Create an object of the Generator and the Discriminator\n",
    "\n",
    "generator = Generator(noise_dim)\n",
    "discriminator = Discriminator(image_size*image_size)\n",
    "\n",
    "\n",
    "# Print a sample generator output before training the GAN.\n",
    "\n",
    "noise = tf.random.normal([4, 128])\n",
    "generated_image = generator.forward(noise, training=False)\n",
    "\n",
    "img = tf.reshape(generated_image[0], (28, 28))\n",
    "\n",
    "plt.imshow(img, cmap='gray')\n",
    "\n",
    "decision = discriminator.forward(generated_image, training=False)\n",
    "print (decision)"
   ]
  },
  {
   "cell_type": "code",
   "execution_count": 12,
   "metadata": {
    "colab": {},
    "colab_type": "code",
    "id": "747Je96VWh-D"
   },
   "outputs": [],
   "source": [
    "# Define the loss function.\n",
    "cross_entropy = tf.keras.losses.BinaryCrossentropy(from_logits=True)"
   ]
  },
  {
   "cell_type": "code",
   "execution_count": 13,
   "metadata": {
    "colab": {},
    "colab_type": "code",
    "id": "vjj7hwKUWlhs"
   },
   "outputs": [],
   "source": [
    "def discriminator_loss(real_output, fake_output):\n",
    "    real_loss = cross_entropy(tf.ones_like(real_output), real_output)\n",
    "    fake_loss = cross_entropy(tf.zeros_like(fake_output), fake_output)\n",
    "    total_loss = real_loss + fake_loss\n",
    "    return total_loss"
   ]
  },
  {
   "cell_type": "code",
   "execution_count": 14,
   "metadata": {
    "colab": {},
    "colab_type": "code",
    "id": "uMfVu_HNWpHM"
   },
   "outputs": [],
   "source": [
    "def generator_loss(fake_output):\n",
    "    return cross_entropy(tf.ones_like(fake_output), fake_output)"
   ]
  },
  {
   "cell_type": "code",
   "execution_count": 15,
   "metadata": {
    "colab": {},
    "colab_type": "code",
    "id": "WmiyOlydWqOt"
   },
   "outputs": [],
   "source": [
    "# Define the optimizers for Gen and Disc.\n",
    "\n",
    "generator_optimizer = tf.keras.optimizers.Adam(1e-4)\n",
    "discriminator_optimizer = tf.keras.optimizers.Adam(1e-4)"
   ]
  },
  {
   "cell_type": "code",
   "execution_count": 16,
   "metadata": {
    "colab": {},
    "colab_type": "code",
    "id": "NYkuJ3AtWvFs"
   },
   "outputs": [],
   "source": [
    "# Define the training step function - This is basically running one epoch.\n",
    "\n",
    "@tf.function\n",
    "def train_step(images):\n",
    "    noise = tf.random.normal([BATCH_SIZE, noise_dim])\n",
    "\n",
    "    with tf.GradientTape() as gen_tape, tf.GradientTape() as disc_tape:\n",
    "        # Generate some images from noise.\n",
    "        generated_images = generator.forward(noise, training=True)\n",
    "\n",
    "        # Find the discriminator output for real and fake images.\n",
    "        real_output = discriminator.forward(images, training=True)\n",
    "        fake_output = discriminator.forward(generated_images, training=True)\n",
    "\n",
    "        # Compute the generator and discriminator losses.\n",
    "        gen_loss = generator_loss(fake_output)\n",
    "        disc_loss = discriminator_loss(real_output, fake_output)\n",
    "\n",
    "    # Find the gradients of both gen and disc.\n",
    "    gradients_of_generator = gen_tape.gradient(gen_loss, generator.model.trainable_variables)\n",
    "    gradients_of_discriminator = disc_tape.gradient(disc_loss, discriminator.model.trainable_variables)\n",
    "\n",
    "    # Use the optimizer to apply the gradients.\n",
    "    generator_optimizer.apply_gradients(zip(gradients_of_generator, generator.model.trainable_variables))\n",
    "    discriminator_optimizer.apply_gradients(zip(gradients_of_discriminator, discriminator.model.trainable_variables))"
   ]
  },
  {
   "cell_type": "code",
   "execution_count": 17,
   "metadata": {
    "colab": {},
    "colab_type": "code",
    "id": "nfvSbZDuWyt6"
   },
   "outputs": [],
   "source": [
    "# Define the main training function for the GAN.\n",
    "\n",
    "def train(dataset, epochs):\n",
    "    for epoch in range(epochs):\n",
    "        start = time.time()\n",
    "\n",
    "        for image_batch in dataset:\n",
    "            image_batch = tf.reshape(image_batch, (BATCH_SIZE, image_size * image_size))\n",
    "            train_step(image_batch)\n",
    "\n",
    "        print ('Time for epoch {} is {} sec'.format(epoch + 1, time.time()-start))\n",
    "\n"
   ]
  },
  {
   "cell_type": "code",
   "execution_count": 18,
   "metadata": {
    "colab": {
     "base_uri": "https://localhost:8080/",
     "height": 867
    },
    "colab_type": "code",
    "id": "0xe3umkeW9VM",
    "outputId": "def0b1ca-d567-44ff-f60f-3dc9d6ca74ef"
   },
   "outputs": [
    {
     "name": "stdout",
     "output_type": "stream",
     "text": [
      "Time for epoch 1 is 40.5778923034668 sec\n",
      "Time for epoch 2 is 40.89944553375244 sec\n",
      "Time for epoch 3 is 40.88352584838867 sec\n",
      "Time for epoch 4 is 41.61582636833191 sec\n",
      "Time for epoch 5 is 41.22470808029175 sec\n",
      "Time for epoch 6 is 42.28378105163574 sec\n",
      "Time for epoch 7 is 41.18620014190674 sec\n",
      "Time for epoch 8 is 39.615450859069824 sec\n",
      "Time for epoch 9 is 40.17325735092163 sec\n",
      "Time for epoch 10 is 40.59689474105835 sec\n",
      "Time for epoch 11 is 40.722835063934326 sec\n",
      "Time for epoch 12 is 41.17563247680664 sec\n",
      "Time for epoch 13 is 39.93512845039368 sec\n",
      "Time for epoch 14 is 40.50039887428284 sec\n",
      "Time for epoch 15 is 40.886343240737915 sec\n",
      "Time for epoch 16 is 40.21212911605835 sec\n",
      "Time for epoch 17 is 40.18646478652954 sec\n",
      "Time for epoch 18 is 40.27297234535217 sec\n",
      "Time for epoch 19 is 40.851290225982666 sec\n",
      "Time for epoch 20 is 40.963605642318726 sec\n",
      "Time for epoch 21 is 39.99441838264465 sec\n",
      "Time for epoch 22 is 41.23888087272644 sec\n",
      "Time for epoch 23 is 40.788397789001465 sec\n",
      "Time for epoch 24 is 40.3703727722168 sec\n",
      "Time for epoch 28 is 40.193963050842285 sec\n",
      "Time for epoch 29 is 40.078574657440186 sec\n",
      "Time for epoch 30 is 39.82671761512756 sec\n",
      "Time for epoch 31 is 38.176371812820435 sec\n",
      "Time for epoch 32 is 40.31018805503845 sec\n",
      "Time for epoch 33 is 39.99762463569641 sec\n",
      "Time for epoch 34 is 40.077956676483154 sec\n",
      "Time for epoch 35 is 40.41128587722778 sec\n",
      "Time for epoch 36 is 40.99260449409485 sec\n",
      "Time for epoch 38 is 39.957659006118774 sec\n",
      "Time for epoch 39 is 40.54213857650757 sec\n",
      "Time for epoch 40 is 40.307910203933716 sec\n",
      "Time for epoch 41 is 40.67828607559204 sec\n",
      "Time for epoch 42 is 40.409212589263916 sec\n",
      "Time for epoch 43 is 41.296130657196045 sec\n",
      "Time for epoch 44 is 40.689985275268555 sec\n",
      "Time for epoch 45 is 40.5982780456543 sec\n",
      "Time for epoch 46 is 40.41268992424011 sec\n",
      "Time for epoch 47 is 40.66760039329529 sec\n",
      "Time for epoch 48 is 40.525193214416504 sec\n",
      "Time for epoch 49 is 38.57070064544678 sec\n",
      "Time for epoch 50 is 39.80939698219299 sec\n"
     ]
    }
   ],
   "source": [
    "train(train_dataset, EPOCHS)"
   ]
  },
  {
   "cell_type": "code",
   "execution_count": 19,
   "metadata": {
    "colab": {},
    "colab_type": "code",
    "id": "RnOp_G0uW-8E"
   },
   "outputs": [],
   "source": [
    "# Generate images after training the model.\n",
    "\n",
    "seed = tf.random.normal([num_examples_to_generate, noise_dim])"
   ]
  },
  {
   "cell_type": "code",
   "execution_count": 20,
   "metadata": {
    "colab": {},
    "colab_type": "code",
    "id": "zWOpq7QDbQnQ"
   },
   "outputs": [],
   "source": [
    "predictions = generator.forward(seed, training=False)"
   ]
  },
  {
   "cell_type": "code",
   "execution_count": 21,
   "metadata": {
    "colab": {
     "base_uri": "https://localhost:8080/",
     "height": 248
    },
    "colab_type": "code",
    "id": "CxfrkgCBbTzL",
    "outputId": "f2c658ae-8341-4196-eca4-71a1c0c5c295"
   },
   "outputs": [
    {
     "data": {
      "image/png": "[encoded data removed]",
      "text/plain": [
       "<Figure size 288x288 with 16 Axes>"
      ]
     },
     "metadata": {
      "needs_background": "light"
     },
     "output_type": "display_data"
    }
   ],
   "source": [
    "fig = plt.figure(figsize=(4,4))\n",
    "\n",
    "\n",
    "for i in range(predictions.shape[0]):\n",
    "    plt.subplot(4, 4, i+1)\n",
    "    plt.imshow(tf.reshape(predictions[i], (28, 28)) * 127.5 + 127.5, cmap='gray')\n",
    "    plt.axis('off')\n"
   ]
  },
  {
   "cell_type": "code",
   "execution_count": null,
   "metadata": {
    "colab": {},
    "colab_type": "code",
    "id": "5-TmhMpobYU-"
   },
   "outputs": [],
   "source": []
  }
 ],
 "metadata": {
  "colab": {
   "name": "GAN_TF_Class",
   "provenance": []
  },
  "kernelspec": {
   "display_name": "Python 3",
   "language": "python",
   "name": "python3"
  },
  "language_info": {
   "codemirror_mode": {
    "name": "ipython",
    "version": 3
   },
   "file_extension": ".py",
   "mimetype": "text/x-python",
   "name": "python",
   "nbconvert_exporter": "python",
   "pygments_lexer": "ipython3",
   "version": "3.7.5"
  }
 },
 "nbformat": 4,
 "nbformat_minor": 1
}
